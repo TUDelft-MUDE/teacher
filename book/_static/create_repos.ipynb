{
 "cells": [
  {
   "cell_type": "code",
   "execution_count": null,
   "metadata": {},
   "outputs": [],
   "source": [
    "# %pip install PyGithub"
   ]
  },
  {
   "cell_type": "code",
   "execution_count": null,
   "metadata": {},
   "outputs": [],
   "source": [
    "from github import Github\n",
    "\n",
    "# Replace these with your details\n",
    "GITHUB_TOKEN = \"PASTE_HERE\"\n",
    "ORG_NAME = \"MUDE-2025\"\n",
    "NEW_REPO_NAME = \"WS2.8\"  # Example: Programming Assignment 1.1\n",
    "\n",
    "# Authenticate with GitHub\n",
    "g = Github(GITHUB_TOKEN)\n",
    "org = g.get_organization(ORG_NAME)\n"
   ]
  },
  {
   "cell_type": "code",
   "execution_count": null,
   "metadata": {},
   "outputs": [],
   "source": [
    "# Step 4: Create a new empty repository\n",
    "print(f\"Creating new empty repository '{NEW_REPO_NAME}'...\")\n",
    "new_repo = org.create_repo(\n",
    "    name=NEW_REPO_NAME,\n",
    "    private=True,\n",
    "    has_issues=True,\n",
    "    has_projects=False,\n",
    "    has_wiki=False,\n",
    ")"
   ]
  },
  {
   "cell_type": "code",
   "execution_count": null,
   "metadata": {},
   "outputs": [],
   "source": [
    "# Step 5: Add a README.md file\n",
    "print(\"Adding README.md...\")\n",
    "readme_content = \"\"\"# Workshop assignment 2.8\n",
    "\n",
    "This repository contains source file for the assignment and will be used a source for student repositories and in the workbook.\n",
    "\n",
    "> Copyright 2025 MUDE, Delft University of Technology. This work is licensed under a CC BY 4.0 License\n",
    "\"\"\"\n",
    "new_repo.create_file(\"README.md\", \"Add README.md\", readme_content)"
   ]
  },
  {
   "cell_type": "code",
   "execution_count": null,
   "metadata": {},
   "outputs": [],
   "source": [
    "# Step 6: Update repository settings\n",
    "print(\"Updating repository settings...\")\n",
    "new_repo.edit(\n",
    "    is_template=True  # Mark as a template repository\n",
    ")\n",
    "new_repo.edit(\n",
    "    delete_branch_on_merge=True  # Automatically delete head branches\n",
    ")\n",
    "new_repo.edit(\n",
    "    allow_update_branch=True  # Always suggest updating pull request branches\n",
    ")"
   ]
  },
  {
   "cell_type": "code",
   "execution_count": null,
   "metadata": {},
   "outputs": [],
   "source": [
    "print(f\"Repository '{NEW_REPO_NAME}' created and configured successfully!\")"
   ]
  }
 ],
 "metadata": {
  "kernelspec": {
   "display_name": "base",
   "language": "python",
   "name": "python3"
  },
  "language_info": {
   "codemirror_mode": {
    "name": "ipython",
    "version": 3
   },
   "file_extension": ".py",
   "mimetype": "text/x-python",
   "name": "python",
   "nbconvert_exporter": "python",
   "pygments_lexer": "ipython3",
   "version": "3.9.18"
  }
 },
 "nbformat": 4,
 "nbformat_minor": 2
}
